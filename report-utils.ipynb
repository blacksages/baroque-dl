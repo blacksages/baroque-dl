{
 "cells": [
  {
   "cell_type": "code",
   "execution_count": 7,
   "metadata": {},
   "outputs": [],
   "source": [
    "import matplotlib.pyplot as plt\n",
    "import pandas as pd"
   ]
  },
  {
   "cell_type": "code",
   "execution_count": 8,
   "metadata": {},
   "outputs": [],
   "source": [
    "def plot_loss(epoch, model, crit, optim, s, w, y, **kwargs):\n",
    "    df = pd.read_csv(f'models-generation-{epoch}epochs/{model}-{crit}-{optim}-s{s}-w{w}/{model}-{crit}-{optim}-s{s}-w{w}.csv')\n",
    "    df.plot(y=y, xticks=range(0, epoch + 1, 2), ylabel=\"Loss\", xlabel=\"Epoch\", **kwargs)"
   ]
  },
  {
   "cell_type": "code",
   "execution_count": 9,
   "metadata": {},
   "outputs": [],
   "source": [
    "for y in [('train_loss', 'training'), ('test_loss', 'testing')]:\n",
    "    for crit in [\"BCE\", \"MSE\"]:\n",
    "        fig, ax = plt.subplots()\n",
    "        \n",
    "        for w in [100, 200, 400, 800, 'None']:\n",
    "            plot_loss(epoch=25, model=\"RNN-relu\", crit=crit, optim=\"ADAM\", s=100, w=w, y=y[0], ax=ax)\n",
    "\n",
    "        ax.legend(['Window size 100', 'Window size 200', 'Window size 400', 'Window size 800', 'Window size none'])\n",
    "        ax.set_title(f\"Impact of the window on the loss ({y[1]},{crit})\\n RNN-relu, Adam, step size 100\")\n",
    "        ax.set_xlabel(\"Epoch\")\n",
    "        ax.set_ylabel(\"Loss\")\n",
    "        plt.savefig(f\"window-impact-{crit.lower()}-{y[1]}.png\")\n",
    "        plt.close(fig)"
   ]
  },
  {
   "cell_type": "code",
   "execution_count": 10,
   "metadata": {},
   "outputs": [],
   "source": [
    "for y in [('train_loss', 'training'), ('test_loss', 'testing')]:\n",
    "    for crit in [\"BCE\", \"MSE\"]:\n",
    "        fig, ax = plt.subplots()\n",
    "\n",
    "        for s in [100,200,400,800]:\n",
    "            plot_loss(epoch=25, model=\"RNN-relu\", crit=crit, optim=\"ADAM\", s=s, w=800, y=y[0], ax=ax)\n",
    "            \n",
    "        plt.legend(['Step size 100', 'Step size 200', 'Step size 400', 'Step size 800'])\n",
    "        plt.title(f\"Impact of the step on the loss ({y[1]},{crit})\\n RNN-relu, Adam, window size 800\")\n",
    "        plt.savefig(f\"step-impact-{crit.lower()}-{y[1]}.png\")\n",
    "        plt.close(fig)"
   ]
  },
  {
   "cell_type": "code",
   "execution_count": 11,
   "metadata": {},
   "outputs": [
    {
     "name": "stdout",
     "output_type": "stream",
     "text": [
      "Average epoch time per step size\n",
      "RNN-tanh-BCE-ADAM-sx-w8\n",
      "Step size of 100 : 92.9175597858429\n",
      "Step size of 200 : 47.14063490867615\n",
      "Step size of 400 : 24.181218681335448\n",
      "Step size of 800 : 12.896559791564941\n",
      "Average epoch time per window size\n",
      "RNN-tanh-BCE-ADAM-s1-wx\n",
      "Window size of 100 : 20.734648303985594\n",
      "Window size of 200 : 31.5911381816864\n",
      "Window size of 400 : 53.481856956481934\n",
      "Window size of 800 : 92.9175597858429\n",
      "Window size of None : 418.1322982120514\n"
     ]
    }
   ],
   "source": [
    "def get_mean(epoch, model, crit, optim, s, w, y):\n",
    "    df = pd.read_csv(f'models-generation-{epoch}epochs/{model}-{crit}-{optim}-s{s}-w{w}/{model}-{crit}-{optim}-s{s}-w{w}.csv')\n",
    "    return df.mean()[y]\n",
    "\n",
    "print(\"Average epoch time per step size\")\n",
    "print(\"RNN-tanh-BCE-ADAM-sx-w8\")\n",
    "for s in [100,200,400,800]:\n",
    "    m = get_mean(epoch=25, model=\"RNN-tanh\", crit=\"BCE\", optim=\"ADAM\", s=s, w=800, y=\"epoch_time\")\n",
    "    print(f'Step size of {s} : {m}')\n",
    "\n",
    "print(\"Average epoch time per window size\")\n",
    "print(\"RNN-tanh-BCE-ADAM-s1-wx\")\n",
    "for w in [100,200,400,800,'None']:\n",
    "    m = get_mean(epoch=25, model=\"RNN-tanh\", crit=\"BCE\", optim=\"ADAM\", s=100, w=w, y=\"epoch_time\")\n",
    "    print(f'Window size of {w} : {m}')"
   ]
  },
  {
   "cell_type": "code",
   "execution_count": 12,
   "metadata": {},
   "outputs": [],
   "source": [
    "for crit in [\"BCE\", \"MSE\"]:\n",
    "    fig, ax = plt.subplots()\n",
    "    # Add padding using subplots_adjust\n",
    "    if crit == \"BCE\":\n",
    "        padding = 0.115\n",
    "    else:\n",
    "        padding = 0.125\n",
    "    plt.subplots_adjust(left=padding, right=1-padding)\n",
    "\n",
    "    for m in ['RNN-relu', 'RNN-tanh', 'LSTM', 'GRU']:\n",
    "        plot_loss(epoch=50, model=m, crit=crit, optim=\"ADAM\", s=100, w=800, y='train_loss', ax=ax, linestyle=\"solid\")\n",
    "\n",
    "    ax.set_xlabel(\"Epoch\")\n",
    "    ax.set_ylabel(\"Train loss\")\n",
    "    \n",
    "    lines, labels = ax.get_legend_handles_labels()\n",
    "    custom_lines = [plt.Line2D([0], [0], color='black', linestyle='dotted', markersize=10, label='Test'),\n",
    "                    plt.Line2D([0], [0], color='black', linestyle='solid', markersize=10, label='Train')]\n",
    "    \n",
    "    ax.legend(lines + custom_lines, ['RNN-relu', 'RNN-tanh', 'LSTM', 'GRU'] + ['Test', 'Train'])\n",
    "    ax.set_title(f\"Impact of the model on the loss ({crit})\\n Adam, step size 100, window size 800\")\n",
    "\n",
    "    ax = ax.twinx()\n",
    "    for m in ['RNN-relu', 'RNN-tanh', 'LSTM', 'GRU']:\n",
    "        plot_loss(epoch=50, model=m, crit=crit, optim=\"ADAM\", s=100, w=800, y='test_loss', ax=ax, linestyle=\"dotted\")\n",
    "    \n",
    "    ax.set_ylabel(\"Test loss\")\n",
    "    ax.get_legend().remove()\n",
    "    plt.savefig(f\"model-impact-{crit.lower()}.png\")\n",
    "    plt.close(fig)"
   ]
  }
 ],
 "metadata": {
  "kernelspec": {
   "display_name": ".venv",
   "language": "python",
   "name": "python3"
  },
  "language_info": {
   "codemirror_mode": {
    "name": "ipython",
    "version": 3
   },
   "file_extension": ".py",
   "mimetype": "text/x-python",
   "name": "python",
   "nbconvert_exporter": "python",
   "pygments_lexer": "ipython3",
   "version": "3.11.4"
  },
  "orig_nbformat": 4
 },
 "nbformat": 4,
 "nbformat_minor": 2
}
